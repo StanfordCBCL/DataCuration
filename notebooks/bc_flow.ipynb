{
 "cells": [
  {
   "cell_type": "code",
   "execution_count": 1,
   "metadata": {},
   "outputs": [],
   "source": [
    "%matplotlib inline\n",
    "\n",
    "import numpy as np\n",
    "import glob, os, csv\n",
    "import matplotlib.pyplot as plt"
   ]
  },
  {
   "cell_type": "code",
   "execution_count": 2,
   "metadata": {},
   "outputs": [],
   "source": [
    "res_path = '/home/pfaller/work/osmsc/data_generated/bc_flow'\n",
    "fig_path = '/home/pfaller/work/osmsc/data_generated/bc_flow_fig'\n",
    "results_folder = os.listdir(res_path)\n",
    "results_folder.sort()"
   ]
  },
  {
   "cell_type": "code",
   "execution_count": 3,
   "metadata": {},
   "outputs": [],
   "source": [
    "results = results_folder#[:3]\n",
    "cgs2mmhg = 7.50062e-4\n",
    "mlps2lph = 60/1000\n",
    "\n",
    "for i in range(len(results)):\n",
    "    f, ax = plt.subplots(1, 2, figsize=(20, 10), dpi=300)\n",
    "\n",
    "    res = np.load(os.path.join(res_path, results[i]), allow_pickle=True).item() \n",
    "    name = results[i].split('.')[0]\n",
    "\n",
    "    ax[0].set_title(name)\n",
    "    ax[0].set_xlabel('Time [s]')\n",
    "    ax[0].set_ylabel('Flow [l/h]')\n",
    "    ax[0].plot(res['time'], res['velocity'] * mlps2lph)\n",
    "    ax[0].grid(True)\n",
    "\n",
    "    ax[1].set_title(name)\n",
    "    ax[1].set_xlabel('Time [s]')\n",
    "    ax[1].set_ylabel('Pressure [mmHg]')\n",
    "    ax[1].plot(res['time'], res['pressure'] * cgs2mmhg)\n",
    "    ax[1].grid(True)\n",
    "\n",
    "    #plt.show()\n",
    "    f.savefig(os.path.join(fig_path, name))\n",
    "    plt.close()"
   ]
  },
  {
   "cell_type": "code",
   "execution_count": null,
   "metadata": {},
   "outputs": [],
   "source": []
  }
 ],
 "metadata": {
  "kernelspec": {
   "display_name": "Python 3",
   "language": "python",
   "name": "python3"
  },
  "language_info": {
   "codemirror_mode": {
    "name": "ipython",
    "version": 3
   },
   "file_extension": ".py",
   "mimetype": "text/x-python",
   "name": "python",
   "nbconvert_exporter": "python",
   "pygments_lexer": "ipython3",
   "version": "3.6.9"
  }
 },
 "nbformat": 4,
 "nbformat_minor": 2
}
