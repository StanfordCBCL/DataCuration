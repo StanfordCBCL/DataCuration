{
 "cells": [
  {
   "cell_type": "code",
   "execution_count": 1,
   "metadata": {},
   "outputs": [],
   "source": [
    "import numpy as np\n",
    "import matplotlib.pyplot as plt\n",
    "import vtk\n",
    "import meshio"
   ]
  },
  {
   "cell_type": "markdown",
   "metadata": {},
   "source": [
    "Custom imports"
   ]
  },
  {
   "cell_type": "code",
   "execution_count": 2,
   "metadata": {},
   "outputs": [],
   "source": [
    "import sys\n",
    "sys.path.append('..')\n",
    "\n",
    "from vtk_functions import read_geo, write_geo, get_all_arrays\n",
    "from get_branches_bifurcations import get_bifurcations\n",
    "from simulation_io import load_results_3d"
   ]
  },
  {
   "cell_type": "markdown",
   "metadata": {},
   "source": [
    "Read geometries"
   ]
  },
  {
   "cell_type": "code",
   "execution_count": 3,
   "metadata": {},
   "outputs": [],
   "source": [
    "# path to centerline\n",
    "f_cent = '/Users/pfaller/work/students/shobha_dasari/0075_1001_centerline.vtp'\n",
    "\n",
    "# path to 1d model\n",
    "f_1d = '/Users/pfaller/work/students/shobha_dasari/0075_1001_1d.vtp'\n",
    "\n",
    "# read geometries\n",
    "geo_cent = read_geo(f_cent).GetOutput()\n",
    "geo_1d = read_geo(f_1d).GetOutput()\n",
    "\n",
    "# extract all arrays\n",
    "arrays_cent, _ = get_all_arrays(geo_cent)\n",
    "arrays_1d, _ = get_all_arrays(geo_1d)"
   ]
  },
  {
   "cell_type": "markdown",
   "metadata": {},
   "source": [
    "Get arrays from geometries"
   ]
  },
  {
   "cell_type": "code",
   "execution_count": 4,
   "metadata": {},
   "outputs": [],
   "source": [
    "# area\n",
    "area = arrays_1d['area']\n",
    "\n",
    "# centerline branch ID\n",
    "branch_cent = arrays_cent['BranchId']\n",
    "\n",
    "# 1d model branch ID\n",
    "branch_1d = arrays_1d['BranchId']"
   ]
  },
  {
   "cell_type": "markdown",
   "metadata": {},
   "source": [
    "Export a geometry"
   ]
  },
  {
   "cell_type": "code",
   "execution_count": 5,
   "metadata": {},
   "outputs": [],
   "source": [
    "# meshio.write(...)"
   ]
  },
  {
   "cell_type": "code",
   "execution_count": null,
   "metadata": {},
   "outputs": [],
   "source": []
  }
 ],
 "metadata": {
  "kernelspec": {
   "display_name": "Python 3",
   "language": "python",
   "name": "python3"
  },
  "language_info": {
   "codemirror_mode": {
    "name": "ipython",
    "version": 3
   },
   "file_extension": ".py",
   "mimetype": "text/x-python",
   "name": "python",
   "nbconvert_exporter": "python",
   "pygments_lexer": "ipython3",
   "version": "3.7.4"
  }
 },
 "nbformat": 4,
 "nbformat_minor": 2
}
